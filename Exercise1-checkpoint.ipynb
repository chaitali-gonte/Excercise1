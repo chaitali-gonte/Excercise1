{
 "cells": [
  {
   "cell_type": "markdown",
   "id": "bb3fe6fc",
   "metadata": {},
   "source": [
    "# Excercise 1"
   ]
  },
  {
   "cell_type": "markdown",
   "id": "2794b5e1",
   "metadata": {},
   "source": [
    "** What is 7 to the power of 4?**"
   ]
  },
  {
   "cell_type": "code",
   "execution_count": 2,
   "id": "62912575",
   "metadata": {},
   "outputs": [
    {
     "data": {
      "text/plain": [
       "2401"
      ]
     },
     "execution_count": 2,
     "metadata": {},
     "output_type": "execute_result"
    }
   ],
   "source": [
    "7**4"
   ]
  },
  {
   "cell_type": "markdown",
   "id": "cec0f617",
   "metadata": {},
   "source": [
    "** Split this string:**\n",
    "\n",
    "s = \"Hi there Yogesh!\" \n",
    "\n",
    "*into a list. *"
   ]
  },
  {
   "cell_type": "code",
   "execution_count": 1,
   "id": "18339ab8",
   "metadata": {},
   "outputs": [],
   "source": [
    "s = \"Hi there Yogesh!\"\n"
   ]
  },
  {
   "cell_type": "code",
   "execution_count": 2,
   "id": "5f0b3abe",
   "metadata": {},
   "outputs": [
    {
     "data": {
      "text/plain": [
       "str"
      ]
     },
     "execution_count": 2,
     "metadata": {},
     "output_type": "execute_result"
    }
   ],
   "source": [
    "type(s)"
   ]
  },
  {
   "cell_type": "code",
   "execution_count": 3,
   "id": "be854625",
   "metadata": {},
   "outputs": [
    {
     "data": {
      "text/plain": [
       "['Hi', 'there', 'Yogesh!']"
      ]
     },
     "execution_count": 3,
     "metadata": {},
     "output_type": "execute_result"
    }
   ],
   "source": [
    "s.split()"
   ]
  },
  {
   "cell_type": "markdown",
   "id": "c4c1ece4",
   "metadata": {},
   "source": [
    "** Given the variables:**\n",
    "\n",
    "planet = \"Earth\"\n",
    "diameter = 12742\n",
    "\n",
    "** Use .format() to print the following string: **\n",
    "\n",
    "The diameter of Earth is 12742 kilometers."
   ]
  },
  {
   "cell_type": "code",
   "execution_count": 8,
   "id": "eff53f52",
   "metadata": {},
   "outputs": [],
   "source": [
    "Planet = \"Earth\"                 \n",
    "diameter = 12742"
   ]
  },
  {
   "cell_type": "code",
   "execution_count": 10,
   "id": "4145863c",
   "metadata": {},
   "outputs": [
    {
     "data": {
      "text/plain": [
       "'The diameter of Earth is 12742 kilometer'"
      ]
     },
     "execution_count": 10,
     "metadata": {},
     "output_type": "execute_result"
    }
   ],
   "source": [
    "'The diameter of {} is {} kilometer'.format(Planet,diameter)"
   ]
  },
  {
   "cell_type": "code",
   "execution_count": null,
   "id": "c7096d6d",
   "metadata": {},
   "outputs": [],
   "source": [
    ":** Given this nested list, use indexing to grab the word \"hello\" **"
   ]
  },
  {
   "cell_type": "code",
   "execution_count": 12,
   "id": "94cd2308",
   "metadata": {},
   "outputs": [],
   "source": [
    "lst= [1,2,[3,4],[5,[100,200,['hello']],23,11],1,7]\n"
   ]
  },
  {
   "cell_type": "code",
   "execution_count": 16,
   "id": "c334e5ef",
   "metadata": {},
   "outputs": [
    {
     "data": {
      "text/plain": [
       "'hello'"
      ]
     },
     "execution_count": 16,
     "metadata": {},
     "output_type": "execute_result"
    }
   ],
   "source": [
    "lst[3][1][2][0]"
   ]
  },
  {
   "cell_type": "markdown",
   "id": "b8e44c6e",
   "metadata": {},
   "source": [
    "** Given this nested dictionary grab the word \"hello\". Be prepared, this will be annoying/tricky **"
   ]
  },
  {
   "cell_type": "code",
   "execution_count": 16,
   "id": "76e51da2",
   "metadata": {},
   "outputs": [],
   "source": [
    "d = {'k1':[1,2,3,{'tricky':['oh','man','inception',{'target':[1,2,3,'hello']}]}]}\n"
   ]
  },
  {
   "cell_type": "code",
   "execution_count": 24,
   "id": "2410ab13",
   "metadata": {},
   "outputs": [
    {
     "data": {
      "text/plain": [
       "'hello'"
      ]
     },
     "execution_count": 24,
     "metadata": {},
     "output_type": "execute_result"
    }
   ],
   "source": [
    "d['k1'][3]['tricky'][3]['target'][3]"
   ]
  },
  {
   "cell_type": "markdown",
   "id": "a65db37a",
   "metadata": {},
   "source": [
    "** What is the main difference between a tuple and a list? **"
   ]
  },
  {
   "cell_type": "code",
   "execution_count": null,
   "id": "93e13107",
   "metadata": {},
   "outputs": [],
   "source": [
    "#Tuple is immutable and list is mutable"
   ]
  },
  {
   "cell_type": "markdown",
   "id": "e88cc133",
   "metadata": {},
   "source": [
    "** Create a function that grabs the email website domain from a string in the form: **\n",
    "\n",
    "user@domain.com\n",
    "\n",
    "So for example, passing \"user@domain.com\" would return: domain.com"
   ]
  },
  {
   "cell_type": "code",
   "execution_count": 35,
   "id": "52613b8c",
   "metadata": {},
   "outputs": [],
   "source": [
    "\n",
    "def fun1(a):\n",
    "    return a.split('@')[-1]\n"
   ]
  },
  {
   "cell_type": "code",
   "execution_count": 48,
   "id": "7cda9308",
   "metadata": {},
   "outputs": [
    {
     "data": {
      "text/plain": [
       "'gmail.com'"
      ]
     },
     "execution_count": 48,
     "metadata": {},
     "output_type": "execute_result"
    }
   ],
   "source": [
    "fun1('abc@gmail.com')"
   ]
  },
  {
   "cell_type": "code",
   "execution_count": 42,
   "id": "fffad264",
   "metadata": {},
   "outputs": [],
   "source": [
    "def get_domain(email):\n",
    "    return email.split('@')[-1]\n"
   ]
  },
  {
   "cell_type": "code",
   "execution_count": 46,
   "id": "aad6c5ee",
   "metadata": {},
   "outputs": [
    {
     "data": {
      "text/plain": [
       "'gmail.com'"
      ]
     },
     "execution_count": 46,
     "metadata": {},
     "output_type": "execute_result"
    }
   ],
   "source": [
    "get_domain('abc@gmail.com')"
   ]
  },
  {
   "cell_type": "code",
   "execution_count": 44,
   "id": "174bc178",
   "metadata": {},
   "outputs": [],
   "source": [
    "def demo(a):\n",
    "    domain=\"\"\n",
    "    domain=a.split('@')[1]\n",
    "    return domain\n"
   ]
  },
  {
   "cell_type": "code",
   "execution_count": 45,
   "id": "dae31340",
   "metadata": {},
   "outputs": [
    {
     "data": {
      "text/plain": [
       "'domain.com'"
      ]
     },
     "execution_count": 45,
     "metadata": {},
     "output_type": "execute_result"
    }
   ],
   "source": [
    "\n",
    "demo('user@domain.com')\n"
   ]
  },
  {
   "cell_type": "markdown",
   "id": "47df38c2",
   "metadata": {},
   "source": [
    "** Create a basic function that returns True if the word 'dog' is contained in the input string. Don't worry about edge cases like a punctuation being attached to the word dog, but do account for capitalization. **"
   ]
  },
  {
   "cell_type": "code",
   "execution_count": 17,
   "id": "ff8da75a",
   "metadata": {},
   "outputs": [],
   "source": [
    "def dog_find(s):\n",
    "    return 'dog' in s.lower().split()\n",
    "            "
   ]
  },
  {
   "cell_type": "code",
   "execution_count": 18,
   "id": "091d86b3",
   "metadata": {},
   "outputs": [
    {
     "data": {
      "text/plain": [
       "True"
      ]
     },
     "execution_count": 18,
     "metadata": {},
     "output_type": "execute_result"
    }
   ],
   "source": [
    "dog_find(\"This Dog is faster than that dog\")"
   ]
  },
  {
   "cell_type": "code",
   "execution_count": 60,
   "id": "85f0691b",
   "metadata": {},
   "outputs": [
    {
     "data": {
      "text/plain": [
       "True"
      ]
     },
     "execution_count": 60,
     "metadata": {},
     "output_type": "execute_result"
    }
   ],
   "source": [
    "dog_find('dOG')"
   ]
  },
  {
   "cell_type": "code",
   "execution_count": 61,
   "id": "039a7393",
   "metadata": {},
   "outputs": [
    {
     "data": {
      "text/plain": [
       "'hello evryone we are learnig python'"
      ]
     },
     "execution_count": 61,
     "metadata": {},
     "output_type": "execute_result"
    }
   ],
   "source": [
    "'hello eVryone We are Learnig PYthon'.lower()\n"
   ]
  },
  {
   "cell_type": "code",
   "execution_count": 62,
   "id": "36c7abb5",
   "metadata": {},
   "outputs": [
    {
     "data": {
      "text/plain": [
       "'HELLO EVRYONE WE ARE LEARNIG PYTHON'"
      ]
     },
     "execution_count": 62,
     "metadata": {},
     "output_type": "execute_result"
    }
   ],
   "source": [
    "'hello eVryone We are Learnig PYthon'.upper()\n"
   ]
  },
  {
   "cell_type": "code",
   "execution_count": 63,
   "id": "e4e5117d",
   "metadata": {},
   "outputs": [
    {
     "data": {
      "text/plain": [
       "'Hello Evryone We Are Learnig Python'"
      ]
     },
     "execution_count": 63,
     "metadata": {},
     "output_type": "execute_result"
    }
   ],
   "source": [
    "'hello eVryone We are Learnig PYthon'.title()\n"
   ]
  },
  {
   "cell_type": "code",
   "execution_count": 64,
   "id": "55019c94",
   "metadata": {},
   "outputs": [
    {
     "data": {
      "text/plain": [
       "'Hello evryone we are learnig python'"
      ]
     },
     "execution_count": 64,
     "metadata": {},
     "output_type": "execute_result"
    }
   ],
   "source": [
    "'hello eVryone We are Learnig PYthon'.capitalize()\n"
   ]
  },
  {
   "cell_type": "code",
   "execution_count": 66,
   "id": "50ff62bc",
   "metadata": {},
   "outputs": [
    {
     "data": {
      "text/plain": [
       "6"
      ]
     },
     "execution_count": 66,
     "metadata": {},
     "output_type": "execute_result"
    }
   ],
   "source": [
    "'hello eVryone We are Learnig PYthon'.count('e')\n"
   ]
  },
  {
   "cell_type": "code",
   "execution_count": 70,
   "id": "9d186875",
   "metadata": {},
   "outputs": [
    {
     "data": {
      "text/plain": [
       "2"
      ]
     },
     "execution_count": 70,
     "metadata": {},
     "output_type": "execute_result"
    }
   ],
   "source": [
    "\"This Dog is faster than that dog\".lower().count('dog')"
   ]
  },
  {
   "cell_type": "markdown",
   "id": "ef08a1d2",
   "metadata": {},
   "source": [
    "** Create a function that counts the number of times the word \"dog\" occurs in a string. Again ignore edge cases. **"
   ]
  },
  {
   "cell_type": "code",
   "execution_count": 4,
   "id": "a300d263",
   "metadata": {},
   "outputs": [],
   "source": [
    "def count_dog(s):\n",
    "    count=0\n",
    "    for w in s.lower().split():\n",
    "        if w=='dog':\n",
    "            count=count+1\n",
    "    return count"
   ]
  },
  {
   "cell_type": "code",
   "execution_count": 5,
   "id": "67183f2c",
   "metadata": {},
   "outputs": [
    {
     "data": {
      "text/plain": [
       "5"
      ]
     },
     "execution_count": 5,
     "metadata": {},
     "output_type": "execute_result"
    }
   ],
   "source": [
    "count_dog('this dog Dog DOG dOG faster than that doG')"
   ]
  },
  {
   "cell_type": "markdown",
   "id": "234509db",
   "metadata": {},
   "source": [
    "** Use lambda expressions and the filter() function to filter out words from a list that don't start with the letter 's'. For example:**\n",
    "\n",
    "seq = ['soup','dog','salad','cat','great']\n",
    "should be filtered down to:\n",
    "\n",
    "['soup','salad']"
   ]
  },
  {
   "cell_type": "code",
   "execution_count": 6,
   "id": "7b4e9b36",
   "metadata": {},
   "outputs": [],
   "source": [
    "seq = ['soup','dog','salad','cat','great']\n"
   ]
  },
  {
   "cell_type": "code",
   "execution_count": 7,
   "id": "2db738de",
   "metadata": {},
   "outputs": [
    {
     "data": {
      "text/plain": [
       "list"
      ]
     },
     "execution_count": 7,
     "metadata": {},
     "output_type": "execute_result"
    }
   ],
   "source": [
    "type(seq)"
   ]
  },
  {
   "cell_type": "code",
   "execution_count": 8,
   "id": "c82e4837",
   "metadata": {},
   "outputs": [
    {
     "data": {
      "text/plain": [
       "['soup', 'dog', 'salad', 'cat', 'great']"
      ]
     },
     "execution_count": 8,
     "metadata": {},
     "output_type": "execute_result"
    }
   ],
   "source": [
    "seq"
   ]
  },
  {
   "cell_type": "code",
   "execution_count": 11,
   "id": "c7120c3e",
   "metadata": {},
   "outputs": [
    {
     "data": {
      "text/plain": [
       "<function __main__.<lambda>(x)>"
      ]
     },
     "execution_count": 11,
     "metadata": {},
     "output_type": "execute_result"
    }
   ],
   "source": [
    "lambda x:x[0]!='s'"
   ]
  },
  {
   "cell_type": "code",
   "execution_count": 13,
   "id": "4db377e9",
   "metadata": {},
   "outputs": [
    {
     "data": {
      "text/plain": [
       "<filter at 0x1ed91c25f70>"
      ]
     },
     "execution_count": 13,
     "metadata": {},
     "output_type": "execute_result"
    }
   ],
   "source": [
    "filter(lambda x:x[0]!='s',seq)"
   ]
  },
  {
   "cell_type": "code",
   "execution_count": 14,
   "id": "27b885eb",
   "metadata": {},
   "outputs": [
    {
     "data": {
      "text/plain": [
       "['dog', 'cat', 'great']"
      ]
     },
     "execution_count": 14,
     "metadata": {},
     "output_type": "execute_result"
    }
   ],
   "source": [
    "list(filter(lambda x:x[0]!='s',seq))"
   ]
  },
  {
   "cell_type": "code",
   "execution_count": 15,
   "id": "350f59eb",
   "metadata": {},
   "outputs": [],
   "source": [
    "l1=list(filter(lambda x :not(x.startswith('s')),seq))\n"
   ]
  },
  {
   "cell_type": "code",
   "execution_count": 16,
   "id": "04e67f08",
   "metadata": {},
   "outputs": [
    {
     "data": {
      "text/plain": [
       "['dog', 'cat', 'great']"
      ]
     },
     "execution_count": 16,
     "metadata": {},
     "output_type": "execute_result"
    }
   ],
   "source": [
    "l1"
   ]
  },
  {
   "cell_type": "markdown",
   "id": "d37d29da",
   "metadata": {},
   "source": [
    "### Final Problem\n",
    "**You are driving a little too fast, and a police officer stops you. Write a function\n",
    "  to return one of 3 possible results: \"No ticket\", \"Small ticket\", or \"Big Ticket\". \n",
    "  If your speed is 60 or less, the result is \"No Ticket\". If speed is between 61 \n",
    "  and 80 inclusive, the result is \"Small Ticket\". If speed is 81 or more, the result is \"Big    Ticket\". Unless it is your birthday (encoded as a boolean value in the parameters of the function) -- on your birthday, your speed can be 5 higher in all \n",
    "  cases. **"
   ]
  },
  {
   "cell_type": "code",
   "execution_count": 19,
   "id": "85f91f82",
   "metadata": {},
   "outputs": [],
   "source": [
    "def catch_speed(speed,birthday):\n",
    "    if birthday:\n",
    "        new_speed=speed-5\n",
    "    else:\n",
    "        new_speed=speed\n",
    "    if new_speed>80:\n",
    "        return \"BIG TICKET\"\n",
    "    elif new_speed>60:\n",
    "        return \"SMALL TICKET\"\n",
    "    else:\n",
    "        return \"NO TICKET\"\n"
   ]
  },
  {
   "cell_type": "code",
   "execution_count": 20,
   "id": "90e9a9c0",
   "metadata": {},
   "outputs": [
    {
     "data": {
      "text/plain": [
       "'SMALL TICKET'"
      ]
     },
     "execution_count": 20,
     "metadata": {},
     "output_type": "execute_result"
    }
   ],
   "source": [
    "catch_speed(83,True)"
   ]
  },
  {
   "cell_type": "markdown",
   "id": "59d2f8fb",
   "metadata": {},
   "source": [
    "\n",
    "**Given a string print number num by extracting all the\n",
    "digits from the string as in string\n",
    "Print negative number if the first character in \n",
    "string is '-'**\n",
    "eg.\n",
    "-123abcd should return -123,abcd456-->456,fdhfh78dsd89--->7889,-56dssd78-->-5678"
   ]
  },
  {
   "cell_type": "code",
   "execution_count": 21,
   "id": "c182600a",
   "metadata": {},
   "outputs": [
    {
     "name": "stdout",
     "output_type": "stream",
     "text": [
      "Enter the value:564651khjhg\n",
      "564651\n"
     ]
    }
   ],
   "source": [
    "s=input(\"Enter the value:\")\n",
    "num=\"\"\n",
    "a=[0,1,2,3,4,5,6,7,8,9]\n",
    "if s[0]=='-':\n",
    "    num=num+s[0]\n",
    "for c in s:\n",
    "    if c in str(a):\n",
    "        num=num+c\n",
    "print(num)\n"
   ]
  },
  {
   "cell_type": "markdown",
   "id": "06c1cacf",
   "metadata": {},
   "source": [
    "\n",
    "**WAP to check whether a number is palindrome or not on following conditions.**\n",
    "1. take input number\n",
    "2. add number and its reverse\n",
    "3. check that number is palindrome or not,if not then sum and its reverse"
   ]
  },
  {
   "cell_type": "code",
   "execution_count": 11,
   "id": "ba6ac6ab",
   "metadata": {},
   "outputs": [
    {
     "name": "stdout",
     "output_type": "stream",
     "text": [
      "Enter the number:86\n",
      "NUmber is 605\n",
      "Reverse is: 506\n",
      "NUmber is 1111\n",
      "Reverse is: 1111\n",
      "Palindrome is: 1111\n"
     ]
    }
   ],
   "source": [
    "num1=input(\"Enter the number:\")\n",
    "num2=int(num1[::-1])\n",
    "num3=str(int(num1)+num2)s\n",
    "while str(num3)!=str(num3[::-1]):\n",
    "    num3=str(int(num3)+int(num3[::-1]))\n",
    "    print(\"NUmber is\",num3)\n",
    "    print(\"Reverse is:\",num3[::-1])\n",
    "print(\"Palindrome is:\",num3)\n"
   ]
  },
  {
   "cell_type": "markdown",
   "id": "20ae100b",
   "metadata": {},
   "source": [
    "**Write a python function to find and display the five \n",
    "digit number in which the first digit is two more than \n",
    "the second,the second digit is two more than the third,\n",
    "the fourth digit is two less than the third, and the \n",
    "last digit is two more than\n",
    "the fourth.The sum of the third,fourth and fifth digits\n",
    "equals the first.The sum of all the digits is 19**"
   ]
  },
  {
   "cell_type": "code",
   "execution_count": 1,
   "id": "6e81a5d9",
   "metadata": {},
   "outputs": [
    {
     "name": "stdout",
     "output_type": "stream",
     "text": [
      "75313\n"
     ]
    }
   ],
   "source": [
    "def find_five_digit():\n",
    "    for i in range(0,9,1):\n",
    "        a = i\n",
    "        b = i-2\n",
    "        c = i-4\n",
    "        d = i-6\n",
    "        e = i-4\n",
    "        if(c+d+e == a):\n",
    "            if(a+b+c+d+e == 19):\n",
    "                return int(str(a)+str(b)+str(c)+str(d)+str(e))\n",
    "\n",
    "print(find_five_digit())\n"
   ]
  },
  {
   "cell_type": "code",
   "execution_count": null,
   "id": "0e316646",
   "metadata": {},
   "outputs": [],
   "source": []
  }
 ],
 "metadata": {
  "kernelspec": {
   "display_name": "Python 3 (ipykernel)",
   "language": "python",
   "name": "python3"
  },
  "language_info": {
   "codemirror_mode": {
    "name": "ipython",
    "version": 3
   },
   "file_extension": ".py",
   "mimetype": "text/x-python",
   "name": "python",
   "nbconvert_exporter": "python",
   "pygments_lexer": "ipython3",
   "version": "3.9.7"
  }
 },
 "nbformat": 4,
 "nbformat_minor": 5
}
